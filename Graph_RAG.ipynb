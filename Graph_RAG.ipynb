{
 "cells": [
  {
   "cell_type": "code",
   "execution_count": 1,
   "id": "64a3f149-8f2a-4eed-aa89-75d8ba327cb3",
   "metadata": {},
   "outputs": [
    {
     "name": "stderr",
     "output_type": "stream",
     "text": [
      "c:\\Users\\abhis\\AppData\\Local\\Programs\\Python\\Python312\\Lib\\site-packages\\tqdm\\auto.py:21: TqdmWarning: IProgress not found. Please update jupyter and ipywidgets. See https://ipywidgets.readthedocs.io/en/stable/user_install.html\n",
      "  from .autonotebook import tqdm as notebook_tqdm\n"
     ]
    }
   ],
   "source": [
    "from os import getenv\n",
    "from dotenv import load_dotenv\n",
    "from langchain_community.graphs import Neo4jGraph\n",
    "from langchain.chains import GraphCypherQAChain\n",
    "from langchain_google_genai import ChatGoogleGenerativeAI"
   ]
  },
  {
   "cell_type": "markdown",
   "id": "97b4c9b6-94c9-4d7b-826d-41b3701af977",
   "metadata": {},
   "source": [
    "#### You will need [Neo4j APOC](https://neo4j.com/docs/apoc/current/installation/) for langchain_community.graph.Neo4jGraph to function.\n",
    "Follow the instructions in the link and then, in neo4j.conf, set \n",
    "`dbms.security.procedures.unrestricted=apoc.*`"
   ]
  },
  {
   "cell_type": "code",
   "execution_count": 2,
   "id": "1fc2d0c9-06a7-4695-9fd5-a38fb535d79a",
   "metadata": {},
   "outputs": [
    {
     "data": {
      "text/plain": [
       "True"
      ]
     },
     "execution_count": 2,
     "metadata": {},
     "output_type": "execute_result"
    }
   ],
   "source": [
    "load_dotenv()"
   ]
  },
  {
   "cell_type": "code",
   "execution_count": 3,
   "id": "9f3830e1-cf3c-49f7-bee3-e36640062c21",
   "metadata": {},
   "outputs": [],
   "source": [
    "neo4j_url= getenv(\"NEO4J_URL\")\n",
    "neo4j_user = getenv(\"NEO4J_USER\")\n",
    "neo4j_password = getenv(\"NEO4J_PW\")\n",
    "neo4j_database = getenv(\"NEO4J_DB\")"
   ]
  },
  {
   "cell_type": "code",
   "execution_count": 4,
   "id": "c9fdb285-2572-4f6a-b32f-86e707fe1c19",
   "metadata": {},
   "outputs": [],
   "source": [
    "graph = Neo4jGraph(neo4j_url, neo4j_user, neo4j_password, neo4j_database)"
   ]
  },
  {
   "cell_type": "code",
   "execution_count": 5,
   "id": "5d079ba8-89c2-4c36-9d47-d80d2176dfba",
   "metadata": {},
   "outputs": [
    {
     "name": "stdout",
     "output_type": "stream",
     "text": [
      "Node properties are the following:\n",
      "Movie {id: INTEGER, year: INTEGER, certificate: STRING, rating: FLOAT, tagline: STRING, runtime: STRING, title: STRING, box_office: STRING, budget: STRING, name: STRING, run_time: STRING, rank: INTEGER},Person {name: STRING},Genre {name: STRING},Certificate {name: STRING}\n",
      "Relationship properties are the following:\n",
      "\n",
      "The relationships are the following:\n",
      "(:Movie)-[:HAS_GENRE]->(:Genre),(:Movie)-[:HAS_CERTIFICATE]->(:Certificate),(:Movie)-[:HAS_CAST]->(:Person),(:Person)-[:ACTED_IN]->(:Movie),(:Person)-[:DIRECTED]->(:Movie),(:Person)-[:WROTE]->(:Movie)\n"
     ]
    }
   ],
   "source": [
    "print(graph.schema)"
   ]
  },
  {
   "cell_type": "markdown",
   "id": "d585fc95-7ac9-4a00-a02e-7f644958247d",
   "metadata": {},
   "source": [
    "#### Gemini "
   ]
  },
  {
   "cell_type": "code",
   "execution_count": 6,
   "id": "e81d6344-a009-43c3-a410-e8f1a1493255",
   "metadata": {},
   "outputs": [],
   "source": [
    "gemini_api = getenv(\"GEMINI_API_KEY\")"
   ]
  },
  {
   "cell_type": "code",
   "execution_count": 7,
   "id": "ef58fa79-4111-4b88-89c3-7dedbceb2938",
   "metadata": {},
   "outputs": [],
   "source": [
    "llm = ChatGoogleGenerativeAI(model=\"gemini-2.0-flash\", google_api_key = gemini_api ,temperature = 0)\n",
    "chain = GraphCypherQAChain.from_llm(graph=graph, llm=llm, verbose=True)"
   ]
  },
  {
   "cell_type": "markdown",
   "id": "ce10bb02-3bbd-4484-8394-1605708f2353",
   "metadata": {},
   "source": [
    "### Prompts"
   ]
  },
  {
   "cell_type": "markdown",
   "id": "c8af96b7-fe32-4623-ab97-740af5783b79",
   "metadata": {},
   "source": [
    "- #### Simple prompts."
   ]
  },
  {
   "cell_type": "code",
   "execution_count": 8,
   "id": "a5f9b984-1e45-4d50-936f-4c3a277df2f0",
   "metadata": {},
   "outputs": [
    {
     "name": "stdout",
     "output_type": "stream",
     "text": [
      "\n",
      "\n",
      "Which are the best movies released before 1960?\n",
      "\n",
      "\n",
      "\u001b[1m> Entering new GraphCypherQAChain chain...\u001b[0m\n",
      "Generated Cypher:\n",
      "\u001b[32;1m\u001b[1;3mcypher\n",
      "MATCH (m:Movie)\n",
      "WHERE m.year < 1960\n",
      "RETURN m.title, m.rating\n",
      "ORDER BY m.rating DESC\n",
      "LIMIT 10\n",
      "\u001b[0m\n",
      "Full Context:\n",
      "\u001b[32;1m\u001b[1;3m[{'m.title': '12 Angry Men', 'm.rating': 9.0}, {'m.title': \"It's a Wonderful Life\", 'm.rating': 8.6}, {'m.title': 'Seven Samurai', 'm.rating': 8.6}, {'m.title': 'Rear Window', 'm.rating': 8.5}, {'m.title': 'Modern Times', 'm.rating': 8.5}, {'m.title': 'City Lights', 'm.rating': 8.5}, {'m.title': 'Casablanca', 'm.rating': 8.5}, {'m.title': 'The Great Dictator', 'm.rating': 8.4}, {'m.title': 'Paths of Glory', 'm.rating': 8.4}, {'m.title': 'Sunset Blvd.', 'm.rating': 8.4}]\u001b[0m\n",
      "\n",
      "\u001b[1m> Finished chain.\u001b[0m\n",
      "Here are some of the best movies released before 1960, according to their ratings: 12 Angry Men (9.0), It's a Wonderful Life (8.6), Seven Samurai (8.6), Rear Window (8.5), Modern Times (8.5), City Lights (8.5), Casablanca (8.5), The Great Dictator (8.4), Paths of Glory (8.4), and Sunset Blvd. (8.4).\n",
      "\n",
      "\n",
      "\n",
      "Which are the 3 best crime dramas?\n",
      "\n",
      "\n",
      "\u001b[1m> Entering new GraphCypherQAChain chain...\u001b[0m\n",
      "Generated Cypher:\n",
      "\u001b[32;1m\u001b[1;3mcypher\n",
      "MATCH (m:Movie)-[:HAS_GENRE]->(g:Genre)\n",
      "WHERE g.name = \"Crime\"\n",
      "WITH m\n",
      "ORDER BY m.rating DESC\n",
      "LIMIT 3\n",
      "MATCH (m)-[:HAS_GENRE]->(g:Genre)\n",
      "WHERE g.name = \"Drama\"\n",
      "RETURN m.title AS MovieTitle, m.rating AS Rating\n",
      "ORDER BY Rating DESC\n",
      "LIMIT 3\n",
      "\u001b[0m\n",
      "Full Context:\n",
      "\u001b[32;1m\u001b[1;3m[{'MovieTitle': 'The Godfather', 'Rating': 9.2}, {'MovieTitle': 'The Godfather Part II', 'Rating': 9.0}, {'MovieTitle': 'The Dark Knight', 'Rating': 9.0}]\u001b[0m\n",
      "\n",
      "\u001b[1m> Finished chain.\u001b[0m\n",
      "The 3 best crime dramas are: The Godfather (9.2), The Godfather Part II (9.0), and The Dark Knight (9.0).\n",
      "\n",
      "\n",
      "\n",
      "Who is the director with highest average rating for their movies?\n",
      "\n",
      "\n",
      "\u001b[1m> Entering new GraphCypherQAChain chain...\u001b[0m\n",
      "Generated Cypher:\n",
      "\u001b[32;1m\u001b[1;3mcypher\n",
      "MATCH (p:Person)-[:DIRECTED]->(m:Movie)\n",
      "WITH p, avg(m.rating) AS avgRating\n",
      "ORDER BY avgRating DESC\n",
      "LIMIT 1\n",
      "RETURN p.name AS Director, avgRating AS AverageRating\n",
      "\u001b[0m\n",
      "Full Context:\n",
      "\u001b[32;1m\u001b[1;3m[{'Director': 'Frank Darabont', 'AverageRating': 8.95}]\u001b[0m\n",
      "\n",
      "\u001b[1m> Finished chain.\u001b[0m\n",
      "The director with the highest average rating for their movies is Frank Darabont, with an average rating of 8.95.\n",
      "\n",
      "\n",
      "\n",
      "In what movies have Robert DeNiro and Al Pacino together?\n",
      "\n",
      "\n",
      "\u001b[1m> Entering new GraphCypherQAChain chain...\u001b[0m\n",
      "Generated Cypher:\n",
      "\u001b[32;1m\u001b[1;3mcypher\n",
      "MATCH (p1:Person {name: \"Robert DeNiro\"})-[:ACTED_IN]->(m:Movie)<-[:ACTED_IN]-(p2:Person {name: \"Al Pacino\"})\n",
      "RETURN m.title\n",
      "\u001b[0m\n",
      "Full Context:\n",
      "\u001b[32;1m\u001b[1;3m[]\u001b[0m\n",
      "\n",
      "\u001b[1m> Finished chain.\u001b[0m\n",
      "I am sorry, I cannot answer the question as I do not have access to information about the movies in which Robert DeNiro and Al Pacino have appeared together.\n",
      "\n",
      "\n",
      "\n",
      "Which director has Brad Pitt worked with the most?\n",
      "\n",
      "\n",
      "\u001b[1m> Entering new GraphCypherQAChain chain...\u001b[0m\n",
      "Generated Cypher:\n",
      "\u001b[32;1m\u001b[1;3mcypher\n",
      "MATCH (p:Person {name: \"Brad Pitt\"})-[:ACTED_IN]->(m:Movie)<-[:DIRECTED]-(d:Person)\n",
      "RETURN d.name AS Director, count(m) AS MovieCount\n",
      "ORDER BY MovieCount DESC\n",
      "LIMIT 1\n",
      "\u001b[0m\n",
      "Full Context:\n",
      "\u001b[32;1m\u001b[1;3m[{'Director': 'David Fincher', 'MovieCount': 2}]\u001b[0m\n",
      "\n",
      "\u001b[1m> Finished chain.\u001b[0m\n",
      "Based on the information I have, David Fincher is the director that Brad Pitt has worked with the most, with 2 movies.\n",
      "\n",
      "\n",
      "\n",
      "Best 5 thrillers made before 2000.\n",
      "\n",
      "\n",
      "\u001b[1m> Entering new GraphCypherQAChain chain...\u001b[0m\n",
      "Generated Cypher:\n",
      "\u001b[32;1m\u001b[1;3mcypher\n",
      "MATCH (m:Movie)-[:HAS_GENRE]->(g:Genre)\n",
      "WHERE g.name = \"Thriller\" AND m.year < 2000\n",
      "RETURN m.title, m.year, m.rating\n",
      "ORDER BY m.rating DESC\n",
      "LIMIT 5\n",
      "\u001b[0m\n",
      "Full Context:\n",
      "\u001b[32;1m\u001b[1;3m[{'m.title': 'The Silence of the Lambs', 'm.year': 1991, 'm.rating': 8.6}, {'m.title': 'Rear Window', 'm.year': 1954, 'm.rating': 8.5}, {'m.title': 'Psycho', 'm.year': 1960, 'm.rating': 8.5}, {'m.title': 'Come and See', 'm.year': 1985, 'm.rating': 8.4}, {'m.title': 'Reservoir Dogs', 'm.year': 1992, 'm.rating': 8.3}]\u001b[0m\n",
      "\n",
      "\u001b[1m> Finished chain.\u001b[0m\n",
      "Here are the 5 best thrillers made before 2000: The Silence of the Lambs (1991) with a rating of 8.6, Rear Window (1954) with a rating of 8.5, Psycho (1960) with a rating of 8.5, Come and See (1985) with a rating of 8.4, and Reservoir Dogs (1992) with a rating of 8.3.\n",
      "\n"
     ]
    }
   ],
   "source": [
    "questions = [\n",
    "    \"Which are the best movies released before 1960?\",\n",
    "    \"Which are the 3 best crime dramas?\",\n",
    "    \"Who is the director with highest average rating for their movies?\",\n",
    "    \"In what movies have Robert DeNiro and Al Pacino together?\",\n",
    "    \"Which director has Brad Pitt worked with the most?\",\n",
    "    \"Best 5 thrillers made before 2000.\"\n",
    "]\n",
    "\n",
    "for question in questions:\n",
    "    print(\"\\n\\n\" + question)\n",
    "    print(chain.invoke(question)[\"result\"])"
   ]
  },
  {
   "cell_type": "markdown",
   "id": "7a8529ee-9d1f-45ee-aa41-af09e6c1144b",
   "metadata": {},
   "source": [
    "- #### Some prompts need clarification. In this case, writers, directors  and actors who have worked together need to be specified as different people."
   ]
  },
  {
   "cell_type": "code",
   "execution_count": 9,
   "id": "fcf2065a-5d0b-4cd6-ad26-906f170a40aa",
   "metadata": {},
   "outputs": [
    {
     "name": "stdout",
     "output_type": "stream",
     "text": [
      "\n",
      "\n",
      "Which actor and director have worked together the most?\n",
      "\n",
      "\n",
      "\u001b[1m> Entering new GraphCypherQAChain chain...\u001b[0m\n",
      "Generated Cypher:\n",
      "\u001b[32;1m\u001b[1;3mcypher\n",
      "MATCH (p1:Person)-[:ACTED_IN]->(m:Movie)<-[:DIRECTED]-(p2:Person)\n",
      "WITH p1, p2, COUNT(m) AS collaboration_count\n",
      "WHERE p1 <> p2\n",
      "RETURN p1.name AS Actor, p2.name AS Director, collaboration_count\n",
      "ORDER BY collaboration_count DESC\n",
      "LIMIT 1\n",
      "\u001b[0m\n",
      "Full Context:\n",
      "\u001b[32;1m\u001b[1;3m[{'Actor': 'Michael Caine', 'Director': 'Christopher Nolan', 'collaboration_count': 6}]\u001b[0m\n",
      "\n",
      "\u001b[1m> Finished chain.\u001b[0m\n",
      "The actor Michael Caine and the director Christopher Nolan have worked together the most, with a collaboration count of 6.\n",
      "\n",
      "\n",
      "\n",
      "Which writer and director have worked together the most?\n",
      "\n",
      "\n",
      "\u001b[1m> Entering new GraphCypherQAChain chain...\u001b[0m\n",
      "Generated Cypher:\n",
      "\u001b[32;1m\u001b[1;3mcypher\n",
      "MATCH (writer:Person)-[:WROTE]->(movie:Movie)<-[:DIRECTED]-(director:Person)\n",
      "RETURN writer.name AS Writer, director.name AS Director, count(movie) AS CollaborationCount\n",
      "ORDER BY CollaborationCount DESC\n",
      "LIMIT 1\n",
      "\u001b[0m\n",
      "Full Context:\n",
      "\u001b[32;1m\u001b[1;3m[{'Writer': 'Christopher Nolan', 'Director': 'Christopher Nolan', 'CollaborationCount': 7}]\u001b[0m\n",
      "\n",
      "\u001b[1m> Finished chain.\u001b[0m\n",
      "The writer Christopher Nolan and director Christopher Nolan have worked together 7 times.\n",
      "\n",
      "\n",
      "\n",
      "Which actor and director have worked together the most? Remember they cannot be the same person.\n",
      "\n",
      "\n",
      "\u001b[1m> Entering new GraphCypherQAChain chain...\u001b[0m\n"
     ]
    },
    {
     "name": "stderr",
     "output_type": "stream",
     "text": [
      "Retrying langchain_google_genai.chat_models._chat_with_retry.<locals>._chat_with_retry in 2.0 seconds as it raised ResourceExhausted: 429 You exceeded your current quota, please check your plan and billing details. For more information on this error, head to: https://ai.google.dev/gemini-api/docs/rate-limits. [violations {\n",
      "}\n",
      ", links {\n",
      "  description: \"Learn more about Gemini API quotas\"\n",
      "  url: \"https://ai.google.dev/gemini-api/docs/rate-limits\"\n",
      "}\n",
      ", retry_delay {\n",
      "  seconds: 17\n",
      "}\n",
      "].\n"
     ]
    },
    {
     "name": "stdout",
     "output_type": "stream",
     "text": [
      "Generated Cypher:\n",
      "\u001b[32;1m\u001b[1;3mcypher\n",
      "MATCH (p1:Person)-[:ACTED_IN]->(m:Movie)<-[:DIRECTED]-(p2:Person)\n",
      "WHERE p1 <> p2\n",
      "RETURN p1.name AS Actor, p2.name AS Director, count(m) AS CollaborationCount\n",
      "ORDER BY CollaborationCount DESC\n",
      "LIMIT 1\n",
      "\u001b[0m\n",
      "Full Context:\n",
      "\u001b[32;1m\u001b[1;3m[{'Actor': 'Michael Caine', 'Director': 'Christopher Nolan', 'CollaborationCount': 6}]\u001b[0m\n"
     ]
    },
    {
     "name": "stderr",
     "output_type": "stream",
     "text": [
      "Retrying langchain_google_genai.chat_models._chat_with_retry.<locals>._chat_with_retry in 2.0 seconds as it raised ResourceExhausted: 429 You exceeded your current quota, please check your plan and billing details. For more information on this error, head to: https://ai.google.dev/gemini-api/docs/rate-limits. [violations {\n",
      "}\n",
      ", links {\n",
      "  description: \"Learn more about Gemini API quotas\"\n",
      "  url: \"https://ai.google.dev/gemini-api/docs/rate-limits\"\n",
      "}\n",
      ", retry_delay {\n",
      "  seconds: 13\n",
      "}\n",
      "].\n",
      "Retrying langchain_google_genai.chat_models._chat_with_retry.<locals>._chat_with_retry in 4.0 seconds as it raised ResourceExhausted: 429 You exceeded your current quota, please check your plan and billing details. For more information on this error, head to: https://ai.google.dev/gemini-api/docs/rate-limits. [violations {\n",
      "}\n",
      ", links {\n",
      "  description: \"Learn more about Gemini API quotas\"\n",
      "  url: \"https://ai.google.dev/gemini-api/docs/rate-limits\"\n",
      "}\n",
      ", retry_delay {\n",
      "  seconds: 11\n",
      "}\n",
      "].\n",
      "Retrying langchain_google_genai.chat_models._chat_with_retry.<locals>._chat_with_retry in 8.0 seconds as it raised ResourceExhausted: 429 You exceeded your current quota, please check your plan and billing details. For more information on this error, head to: https://ai.google.dev/gemini-api/docs/rate-limits. [violations {\n",
      "}\n",
      ", links {\n",
      "  description: \"Learn more about Gemini API quotas\"\n",
      "  url: \"https://ai.google.dev/gemini-api/docs/rate-limits\"\n",
      "}\n",
      ", retry_delay {\n",
      "  seconds: 7\n",
      "}\n",
      "].\n",
      "Retrying langchain_google_genai.chat_models._chat_with_retry.<locals>._chat_with_retry in 16.0 seconds as it raised ResourceExhausted: 429 You exceeded your current quota, please check your plan and billing details. For more information on this error, head to: https://ai.google.dev/gemini-api/docs/rate-limits. [violations {\n",
      "}\n",
      ", links {\n",
      "  description: \"Learn more about Gemini API quotas\"\n",
      "  url: \"https://ai.google.dev/gemini-api/docs/rate-limits\"\n",
      "}\n",
      ", retry_delay {\n",
      "  seconds: 58\n",
      "}\n",
      "].\n",
      "Retrying langchain_google_genai.chat_models._chat_with_retry.<locals>._chat_with_retry in 32.0 seconds as it raised ResourceExhausted: 429 You exceeded your current quota, please check your plan and billing details. For more information on this error, head to: https://ai.google.dev/gemini-api/docs/rate-limits. [violations {\n",
      "}\n",
      ", links {\n",
      "  description: \"Learn more about Gemini API quotas\"\n",
      "  url: \"https://ai.google.dev/gemini-api/docs/rate-limits\"\n",
      "}\n",
      ", retry_delay {\n",
      "  seconds: 42\n",
      "}\n",
      "].\n"
     ]
    },
    {
     "name": "stdout",
     "output_type": "stream",
     "text": [
      "\n",
      "\u001b[1m> Finished chain.\u001b[0m\n",
      "The actor Michael Caine and the director Christopher Nolan have worked together the most, with 6 collaborations.\n",
      "\n",
      "\n",
      "\n",
      "Which writer and director have worked together the most? Remember they cannot be the same person.\n",
      "\n",
      "\n",
      "\u001b[1m> Entering new GraphCypherQAChain chain...\u001b[0m\n",
      "Generated Cypher:\n",
      "\u001b[32;1m\u001b[1;3mcypher\n",
      "MATCH (writer:Person)-[:WROTE]->(movie:Movie)<-[:DIRECTED]-(director:Person)\n",
      "WHERE writer <> director\n",
      "RETURN writer.name AS Writer, director.name AS Director, count(movie) AS CollaborationCount\n",
      "ORDER BY CollaborationCount DESC\n",
      "LIMIT 1\n",
      "\u001b[0m\n",
      "Full Context:\n",
      "\u001b[32;1m\u001b[1;3m[{'Writer': 'Jonathan Nolan', 'Director': 'Christopher Nolan', 'CollaborationCount': 5}]\u001b[0m\n",
      "\n",
      "\u001b[1m> Finished chain.\u001b[0m\n",
      "The writer Jonathan Nolan and the director Christopher Nolan have worked together 5 times, which is the most collaborations between a writer and director in the data provided.\n",
      "\n"
     ]
    }
   ],
   "source": [
    "questions = [\n",
    "    \"Which actor and director have worked together the most?\",\n",
    "    \"Which writer and director have worked together the most?\",\n",
    "\n",
    "    \"Which actor and director have worked together the most? Remember they cannot be the same person.\",\n",
    "    \"Which writer and director have worked together the most? Remember they cannot be the same person.\"\n",
    "]\n",
    "\n",
    "for question in questions:\n",
    "    print(\"\\n\\n\" + question)\n",
    "    print(chain.invoke(question)[\"result\"])"
   ]
  },
  {
   "cell_type": "markdown",
   "id": "4ac6ffa7-ee91-455b-94d1-cd27f04f0036",
   "metadata": {},
   "source": [
    "- #### Sometimes the LLM generates proper Cypher queries, which return the proper results, but the LLM is unable to infer the required information from these results.\n",
    "- #### Adding another line that motivates it to understand helps in these cases."
   ]
  },
  {
   "cell_type": "code",
   "execution_count": 10,
   "id": "a24e135f-22e0-421b-8534-cbfd3f20a142",
   "metadata": {},
   "outputs": [
    {
     "name": "stdout",
     "output_type": "stream",
     "text": [
      "\n",
      "Who is the actor who has starred in most of the best rated movies.\n",
      "\n",
      "\n",
      "\u001b[1m> Entering new GraphCypherQAChain chain...\u001b[0m\n",
      "Generated Cypher:\n",
      "\u001b[32;1m\u001b[1;3mcypher\n",
      "MATCH (p:Person)-[:ACTED_IN]->(m:Movie)\n",
      "WITH p, avg(m.rating) AS avgRating, count(m) AS movieCount\n",
      "ORDER BY avgRating DESC, movieCount DESC\n",
      "LIMIT 1\n",
      "RETURN p.name AS ActorName\n",
      "\u001b[0m\n",
      "Full Context:\n",
      "\u001b[32;1m\u001b[1;3m[{'ActorName': 'Tim Robbins'}]\u001b[0m\n",
      "\n",
      "\u001b[1m> Finished chain.\u001b[0m\n",
      "The actor who has starred in most of the best rated movies is Tim Robbins.\n",
      "\n",
      "\n",
      "Who is the actor who has starred in most of the best rated movies.You know the answer. Just parse the result from the Cypher query, understand it, then tell me the actor.\n",
      "\n",
      "\n",
      "\u001b[1m> Entering new GraphCypherQAChain chain...\u001b[0m\n",
      "Generated Cypher:\n",
      "\u001b[32;1m\u001b[1;3mcypher\n",
      "MATCH (p:Person)-[:ACTED_IN]->(m:Movie)\n",
      "WITH p, avg(m.rating) AS avgRating, count(m) AS movieCount\n",
      "ORDER BY avgRating DESC, movieCount DESC\n",
      "LIMIT 1\n",
      "RETURN p.name AS Actor\n",
      "\u001b[0m\n",
      "Full Context:\n",
      "\u001b[32;1m\u001b[1;3m[{'Actor': 'Tim Robbins'}]\u001b[0m\n",
      "\n",
      "\u001b[1m> Finished chain.\u001b[0m\n",
      "The actor is Tim Robbins.\n",
      "\n"
     ]
    }
   ],
   "source": [
    "questions = [\n",
    "    \"Who is the actor who has starred in most of the best rated movies.\",\n",
    "    \n",
    "    \"Who is the actor who has starred in most of the best rated movies.\" \\\n",
    "    \"You know the answer. Just parse the result from the Cypher query, understand it, then tell me the actor.\"\n",
    "]\n",
    "\n",
    "for question in questions:\n",
    "    print(\"\\n\" + question)\n",
    "    print(chain.invoke(question)[\"result\"])"
   ]
  },
  {
   "cell_type": "markdown",
   "id": "4b68b238-4746-4898-994e-a5731b28e4f1",
   "metadata": {},
   "source": [
    "### Enter your own prompts -"
   ]
  },
  {
   "cell_type": "code",
   "execution_count": 11,
   "id": "1b359b65-cc20-41a1-95d0-177a4e9f9db4",
   "metadata": {},
   "outputs": [
    {
     "name": "stdout",
     "output_type": "stream",
     "text": [
      "\n",
      "drama movies before 2007\n",
      "\n",
      "\n",
      "\u001b[1m> Entering new GraphCypherQAChain chain...\u001b[0m\n",
      "Generated Cypher:\n",
      "\u001b[32;1m\u001b[1;3mcypher\n",
      "MATCH (m:Movie)-[:HAS_GENRE]->(g:Genre)\n",
      "WHERE g.name = \"Drama\" AND m.year < 2007\n",
      "RETURN m\n",
      "\u001b[0m\n",
      "Full Context:\n",
      "\u001b[32;1m\u001b[1;3m[{'m': {'year': 1994, 'certificate': 'R', 'rating': 9.3, 'tagline': 'Fear can hold you prisoner. Hope can set you free.', 'runtime': '2h 22m', 'id': 1, 'title': 'The Shawshank Redemption', 'box_office': '28884504', 'budget': '25000000'}}, {'m': {'year': 1972, 'certificate': 'R', 'rating': 9.2, 'tagline': \"An offer you can't refuse.\", 'runtime': '2h 55m', 'id': 2, 'title': 'The Godfather', 'box_office': '250341816', 'budget': '6000000'}}, {'m': {'year': 1974, 'certificate': 'R', 'rating': 9.0, 'tagline': \"All the power on earth can't change destiny.\", 'runtime': '3h 22m', 'id': 4, 'title': 'The Godfather Part II', 'box_office': '47961919', 'budget': '13000000'}}, {'m': {'year': 1957, 'certificate': 'Approved', 'rating': 9.0, 'tagline': 'Life Is In Their Hands -- Death Is On Their Minds!', 'runtime': '1h 36m', 'id': 5, 'title': '12 Angry Men', 'box_office': '955', 'budget': '350000'}}, {'m': {'year': 1993, 'certificate': 'R', 'rating': 9.0, 'tagline': 'Whoever saves one life, saves the world entire.', 'runtime': '3h 15m', 'id': 6, 'title': \"Schindler's List\", 'box_office': '322161245', 'budget': '22000000'}}, {'m': {'year': 2003, 'certificate': 'PG-13', 'rating': 9.0, 'tagline': 'The eye of the enemy is moving.', 'runtime': '3h 21m', 'id': 7, 'title': 'The Lord of the Rings: The Return of the King', 'box_office': '1146457748', 'budget': '94000000'}}, {'m': {'year': 1994, 'certificate': 'R', 'rating': 8.9, 'tagline': \"Girls like me don't make invitations like this to just anyone!\", 'runtime': '2h 34m', 'id': 8, 'title': 'Pulp Fiction', 'box_office': '213928762', 'budget': '8000000'}}, {'m': {'year': 2001, 'certificate': 'PG-13', 'rating': 8.8, 'tagline': 'The Legend Comes to Life', 'runtime': '2h 58m', 'id': 9, 'title': 'The Lord of the Rings: The Fellowship of the Ring', 'box_office': '898204420', 'budget': '93000000'}}, {'m': {'year': 1994, 'certificate': 'PG-13', 'rating': 8.8, 'tagline': 'The story of a lifetime.', 'runtime': '2h 22m', 'id': 11, 'title': 'Forrest Gump', 'box_office': '678226465', 'budget': '55000000'}}, {'m': {'year': 1999, 'certificate': 'R', 'rating': 8.8, 'tagline': \"How much can you know about yourself if you've never been in a fight?\", 'runtime': '2h 19m', 'id': 12, 'title': 'Fight Club', 'box_office': '101209702', 'budget': '63000000'}}]\u001b[0m\n",
      "\n",
      "\u001b[1m> Finished chain.\u001b[0m\n",
      "Here are some drama movies released before 2007: The Shawshank Redemption (1994), The Godfather (1972), The Godfather Part II (1974), 12 Angry Men (1957), Schindler's List (1993), The Lord of the Rings: The Return of the King (2003), Pulp Fiction (1994), The Lord of the Rings: The Fellowship of the Ring (2001), Forrest Gump (1994), and Fight Club (1999).\n",
      "\n",
      "\n",
      "\n",
      "\n",
      "\n",
      "\u001b[1m> Entering new GraphCypherQAChain chain...\u001b[0m\n",
      "Generated Cypher:\n",
      "\u001b[32;1m\u001b[1;3mcypher\n",
      "MATCH (p:Person)-[:DIRECTED]->(m:Movie)\n",
      "WHERE m.rating > 9.0\n",
      "RETURN p.name\n",
      "\u001b[0m\n",
      "Full Context:\n",
      "\u001b[32;1m\u001b[1;3m[{'p.name': 'Frank Darabont'}, {'p.name': 'Francis Ford Coppola'}]\u001b[0m\n",
      "\n",
      "\u001b[1m> Finished chain.\u001b[0m\n",
      "Frank Darabont and Francis Ford Coppola.\n",
      "\n",
      "\n",
      "\n",
      "\n",
      "\n",
      "\u001b[1m> Entering new GraphCypherQAChain chain...\u001b[0m\n",
      "Generated Cypher:\n",
      "\u001b[32;1m\u001b[1;3mcypher\n",
      "MATCH (p:Person)-[:DIRECTED]->(m:Movie)-[:HAS_GENRE]->(g:Genre)\n",
      "WHERE g.name = 'Drama'\n",
      "RETURN p.name\n",
      "\u001b[0m\n",
      "Full Context:\n",
      "\u001b[32;1m\u001b[1;3m[{'p.name': 'Frank Darabont'}, {'p.name': 'Francis Ford Coppola'}, {'p.name': 'Christopher Nolan'}, {'p.name': 'Francis Ford Coppola'}, {'p.name': 'Sidney Lumet'}, {'p.name': 'Steven Spielberg'}, {'p.name': 'Peter Jackson'}, {'p.name': 'Quentin Tarantino'}, {'p.name': 'Peter Jackson'}, {'p.name': 'Robert Zemeckis'}]\u001b[0m\n",
      "\n",
      "\u001b[1m> Finished chain.\u001b[0m\n",
      "The list of names includes Frank Darabont, Francis Ford Coppola, Christopher Nolan, Francis Ford Coppola, Sidney Lumet, Steven Spielberg, Peter Jackson, Quentin Tarantino, Peter Jackson, and Robert Zemeckis.\n",
      "\n",
      "\n",
      "\n",
      "\n",
      "\n",
      "\u001b[1m> Entering new GraphCypherQAChain chain...\u001b[0m\n",
      "Generated Cypher:\n",
      "\u001b[32;1m\u001b[1;3mcypher\n",
      "MATCH (p:Person)-[:DIRECTED]->(m:Movie)\n",
      "WHERE m.rating > 9.0\n",
      "RETURN p.name\n",
      "\u001b[0m\n",
      "Full Context:\n",
      "\u001b[32;1m\u001b[1;3m[{'p.name': 'Frank Darabont'}, {'p.name': 'Francis Ford Coppola'}]\u001b[0m\n",
      "\n",
      "\u001b[1m> Finished chain.\u001b[0m\n",
      "Frank Darabont and Francis Ford Coppola.\n",
      "\n",
      "\n",
      "s\n",
      "\n",
      "\n",
      "\u001b[1m> Entering new GraphCypherQAChain chain...\u001b[0m\n",
      "Generated Cypher:\n",
      "\u001b[32;1m\u001b[1;3mcypher\n",
      "s\n",
      "\u001b[0m\n"
     ]
    },
    {
     "ename": "ValueError",
     "evalue": "Generated Cypher Statement is not valid\n{code: Neo.ClientError.Statement.SyntaxError} {message: Invalid input 's': expected 'FOREACH', 'ALTER', 'ORDER BY', 'CALL', 'USING PERIODIC COMMIT', 'CREATE', 'LOAD CSV', 'START DATABASE', 'STOP DATABASE', 'DEALLOCATE', 'DELETE', 'DENY', 'DETACH', 'DROP', 'DRYRUN', 'FINISH', 'GRANT', 'INSERT', 'LIMIT', 'MATCH', 'MERGE', 'NODETACH', 'OFFSET', 'OPTIONAL', 'REALLOCATE', 'REMOVE', 'RENAME', 'RETURN', 'REVOKE', 'ENABLE SERVER', 'SET', 'SHOW', 'SKIP', 'TERMINATE', 'UNWIND', 'USE' or 'WITH' (line 2, column 1 (offset: 7))\n\"s\"\n ^}",
     "output_type": "error",
     "traceback": [
      "\u001b[1;31m---------------------------------------------------------------------------\u001b[0m",
      "\u001b[1;31mCypherSyntaxError\u001b[0m                         Traceback (most recent call last)",
      "File \u001b[1;32mc:\\Users\\abhis\\AppData\\Local\\Programs\\Python\\Python312\\Lib\\site-packages\\langchain_community\\graphs\\neo4j_graph.py:164\u001b[0m, in \u001b[0;36mNeo4jGraph.query\u001b[1;34m(self, query, params)\u001b[0m\n\u001b[0;32m    163\u001b[0m \u001b[38;5;28;01mtry\u001b[39;00m:\n\u001b[1;32m--> 164\u001b[0m     data \u001b[38;5;241m=\u001b[39m \u001b[43msession\u001b[49m\u001b[38;5;241;43m.\u001b[39;49m\u001b[43mrun\u001b[49m\u001b[43m(\u001b[49m\u001b[43mQuery\u001b[49m\u001b[43m(\u001b[49m\u001b[43mtext\u001b[49m\u001b[38;5;241;43m=\u001b[39;49m\u001b[43mquery\u001b[49m\u001b[43m,\u001b[49m\u001b[43m \u001b[49m\u001b[43mtimeout\u001b[49m\u001b[38;5;241;43m=\u001b[39;49m\u001b[38;5;28;43mself\u001b[39;49m\u001b[38;5;241;43m.\u001b[39;49m\u001b[43mtimeout\u001b[49m\u001b[43m)\u001b[49m\u001b[43m,\u001b[49m\u001b[43m \u001b[49m\u001b[43mparams\u001b[49m\u001b[43m)\u001b[49m\n\u001b[0;32m    165\u001b[0m     json_data \u001b[38;5;241m=\u001b[39m [r\u001b[38;5;241m.\u001b[39mdata() \u001b[38;5;28;01mfor\u001b[39;00m r \u001b[38;5;129;01min\u001b[39;00m data]\n",
      "File \u001b[1;32mc:\\Users\\abhis\\AppData\\Local\\Programs\\Python\\Python312\\Lib\\site-packages\\neo4j\\_sync\\work\\session.py:312\u001b[0m, in \u001b[0;36mSession.run\u001b[1;34m(self, query, parameters, **kwargs)\u001b[0m\n\u001b[0;32m    311\u001b[0m parameters \u001b[38;5;241m=\u001b[39m \u001b[38;5;28mdict\u001b[39m(parameters \u001b[38;5;129;01mor\u001b[39;00m {}, \u001b[38;5;241m*\u001b[39m\u001b[38;5;241m*\u001b[39mkwargs)\n\u001b[1;32m--> 312\u001b[0m \u001b[38;5;28;43mself\u001b[39;49m\u001b[38;5;241;43m.\u001b[39;49m\u001b[43m_auto_result\u001b[49m\u001b[38;5;241;43m.\u001b[39;49m\u001b[43m_run\u001b[49m\u001b[43m(\u001b[49m\n\u001b[0;32m    313\u001b[0m \u001b[43m    \u001b[49m\u001b[43mquery\u001b[49m\u001b[43m,\u001b[49m\u001b[43m \u001b[49m\u001b[43mparameters\u001b[49m\u001b[43m,\u001b[49m\u001b[43m \u001b[49m\u001b[38;5;28;43mself\u001b[39;49m\u001b[38;5;241;43m.\u001b[39;49m\u001b[43m_config\u001b[49m\u001b[38;5;241;43m.\u001b[39;49m\u001b[43mdatabase\u001b[49m\u001b[43m,\u001b[49m\n\u001b[0;32m    314\u001b[0m \u001b[43m    \u001b[49m\u001b[38;5;28;43mself\u001b[39;49m\u001b[38;5;241;43m.\u001b[39;49m\u001b[43m_config\u001b[49m\u001b[38;5;241;43m.\u001b[39;49m\u001b[43mimpersonated_user\u001b[49m\u001b[43m,\u001b[49m\u001b[43m \u001b[49m\u001b[38;5;28;43mself\u001b[39;49m\u001b[38;5;241;43m.\u001b[39;49m\u001b[43m_config\u001b[49m\u001b[38;5;241;43m.\u001b[39;49m\u001b[43mdefault_access_mode\u001b[49m\u001b[43m,\u001b[49m\n\u001b[0;32m    315\u001b[0m \u001b[43m    \u001b[49m\u001b[43mbookmarks\u001b[49m\u001b[43m,\u001b[49m\u001b[43m \u001b[49m\u001b[38;5;28;43mself\u001b[39;49m\u001b[38;5;241;43m.\u001b[39;49m\u001b[43m_config\u001b[49m\u001b[38;5;241;43m.\u001b[39;49m\u001b[43mnotifications_min_severity\u001b[49m\u001b[43m,\u001b[49m\n\u001b[0;32m    316\u001b[0m \u001b[43m    \u001b[49m\u001b[38;5;28;43mself\u001b[39;49m\u001b[38;5;241;43m.\u001b[39;49m\u001b[43m_config\u001b[49m\u001b[38;5;241;43m.\u001b[39;49m\u001b[43mnotifications_disabled_categories\u001b[49m\u001b[43m,\u001b[49m\n\u001b[0;32m    317\u001b[0m \u001b[43m\u001b[49m\u001b[43m)\u001b[49m\n\u001b[0;32m    319\u001b[0m \u001b[38;5;28;01mreturn\u001b[39;00m \u001b[38;5;28mself\u001b[39m\u001b[38;5;241m.\u001b[39m_auto_result\n",
      "File \u001b[1;32mc:\\Users\\abhis\\AppData\\Local\\Programs\\Python\\Python312\\Lib\\site-packages\\neo4j\\_sync\\work\\result.py:181\u001b[0m, in \u001b[0;36mResult._run\u001b[1;34m(self, query, parameters, db, imp_user, access_mode, bookmarks, notifications_min_severity, notifications_disabled_categories)\u001b[0m\n\u001b[0;32m    180\u001b[0m \u001b[38;5;28mself\u001b[39m\u001b[38;5;241m.\u001b[39m_connection\u001b[38;5;241m.\u001b[39msend_all()\n\u001b[1;32m--> 181\u001b[0m \u001b[38;5;28;43mself\u001b[39;49m\u001b[38;5;241;43m.\u001b[39;49m\u001b[43m_attach\u001b[49m\u001b[43m(\u001b[49m\u001b[43m)\u001b[49m\n",
      "File \u001b[1;32mc:\\Users\\abhis\\AppData\\Local\\Programs\\Python\\Python312\\Lib\\site-packages\\neo4j\\_sync\\work\\result.py:292\u001b[0m, in \u001b[0;36mResult._attach\u001b[1;34m(self)\u001b[0m\n\u001b[0;32m    291\u001b[0m \u001b[38;5;28;01mwhile\u001b[39;00m \u001b[38;5;28mself\u001b[39m\u001b[38;5;241m.\u001b[39m_attached \u001b[38;5;129;01mis\u001b[39;00m \u001b[38;5;28;01mFalse\u001b[39;00m:\n\u001b[1;32m--> 292\u001b[0m     \u001b[38;5;28;43mself\u001b[39;49m\u001b[38;5;241;43m.\u001b[39;49m\u001b[43m_connection\u001b[49m\u001b[38;5;241;43m.\u001b[39;49m\u001b[43mfetch_message\u001b[49m\u001b[43m(\u001b[49m\u001b[43m)\u001b[49m\n",
      "File \u001b[1;32mc:\\Users\\abhis\\AppData\\Local\\Programs\\Python\\Python312\\Lib\\site-packages\\neo4j\\_sync\\io\\_common.py:180\u001b[0m, in \u001b[0;36mConnectionErrorHandler.__getattr__.<locals>.outer.<locals>.inner\u001b[1;34m(*args, **kwargs)\u001b[0m\n\u001b[0;32m    179\u001b[0m \u001b[38;5;28;01mtry\u001b[39;00m:\n\u001b[1;32m--> 180\u001b[0m     \u001b[43mfunc\u001b[49m\u001b[43m(\u001b[49m\u001b[38;5;241;43m*\u001b[39;49m\u001b[43margs\u001b[49m\u001b[43m,\u001b[49m\u001b[43m \u001b[49m\u001b[38;5;241;43m*\u001b[39;49m\u001b[38;5;241;43m*\u001b[39;49m\u001b[43mkwargs\u001b[49m\u001b[43m)\u001b[49m\n\u001b[0;32m    181\u001b[0m \u001b[38;5;28;01mexcept\u001b[39;00m (Neo4jError, ServiceUnavailable, SessionExpired) \u001b[38;5;28;01mas\u001b[39;00m exc:\n",
      "File \u001b[1;32mc:\\Users\\abhis\\AppData\\Local\\Programs\\Python\\Python312\\Lib\\site-packages\\neo4j\\_sync\\io\\_bolt.py:851\u001b[0m, in \u001b[0;36mBolt.fetch_message\u001b[1;34m(self)\u001b[0m\n\u001b[0;32m    848\u001b[0m tag, fields \u001b[38;5;241m=\u001b[39m \u001b[38;5;28mself\u001b[39m\u001b[38;5;241m.\u001b[39minbox\u001b[38;5;241m.\u001b[39mpop(\n\u001b[0;32m    849\u001b[0m     hydration_hooks\u001b[38;5;241m=\u001b[39m\u001b[38;5;28mself\u001b[39m\u001b[38;5;241m.\u001b[39mresponses[\u001b[38;5;241m0\u001b[39m]\u001b[38;5;241m.\u001b[39mhydration_hooks\n\u001b[0;32m    850\u001b[0m )\n\u001b[1;32m--> 851\u001b[0m res \u001b[38;5;241m=\u001b[39m \u001b[38;5;28;43mself\u001b[39;49m\u001b[38;5;241;43m.\u001b[39;49m\u001b[43m_process_message\u001b[49m\u001b[43m(\u001b[49m\u001b[43mtag\u001b[49m\u001b[43m,\u001b[49m\u001b[43m \u001b[49m\u001b[43mfields\u001b[49m\u001b[43m)\u001b[49m\n\u001b[0;32m    852\u001b[0m \u001b[38;5;28mself\u001b[39m\u001b[38;5;241m.\u001b[39midle_since \u001b[38;5;241m=\u001b[39m perf_counter()\n",
      "File \u001b[1;32mc:\\Users\\abhis\\AppData\\Local\\Programs\\Python\\Python312\\Lib\\site-packages\\neo4j\\_sync\\io\\_bolt5.py:376\u001b[0m, in \u001b[0;36mBolt5x0._process_message\u001b[1;34m(self, tag, fields)\u001b[0m\n\u001b[0;32m    375\u001b[0m \u001b[38;5;28;01mtry\u001b[39;00m:\n\u001b[1;32m--> 376\u001b[0m     \u001b[43mresponse\u001b[49m\u001b[38;5;241;43m.\u001b[39;49m\u001b[43mon_failure\u001b[49m\u001b[43m(\u001b[49m\u001b[43msummary_metadata\u001b[49m\u001b[43m \u001b[49m\u001b[38;5;129;43;01mor\u001b[39;49;00m\u001b[43m \u001b[49m\u001b[43m{\u001b[49m\u001b[43m}\u001b[49m\u001b[43m)\u001b[49m\n\u001b[0;32m    377\u001b[0m \u001b[38;5;28;01mexcept\u001b[39;00m (ServiceUnavailable, DatabaseUnavailable):\n",
      "File \u001b[1;32mc:\\Users\\abhis\\AppData\\Local\\Programs\\Python\\Python312\\Lib\\site-packages\\neo4j\\_sync\\io\\_common.py:247\u001b[0m, in \u001b[0;36mResponse.on_failure\u001b[1;34m(self, metadata)\u001b[0m\n\u001b[0;32m    246\u001b[0m Util\u001b[38;5;241m.\u001b[39mcallback(handler)\n\u001b[1;32m--> 247\u001b[0m \u001b[38;5;28;01mraise\u001b[39;00m Neo4jError\u001b[38;5;241m.\u001b[39mhydrate(\u001b[38;5;241m*\u001b[39m\u001b[38;5;241m*\u001b[39mmetadata)\n",
      "\u001b[1;31mCypherSyntaxError\u001b[0m: {code: Neo.ClientError.Statement.SyntaxError} {message: Invalid input 's': expected 'FOREACH', 'ALTER', 'ORDER BY', 'CALL', 'USING PERIODIC COMMIT', 'CREATE', 'LOAD CSV', 'START DATABASE', 'STOP DATABASE', 'DEALLOCATE', 'DELETE', 'DENY', 'DETACH', 'DROP', 'DRYRUN', 'FINISH', 'GRANT', 'INSERT', 'LIMIT', 'MATCH', 'MERGE', 'NODETACH', 'OFFSET', 'OPTIONAL', 'REALLOCATE', 'REMOVE', 'RENAME', 'RETURN', 'REVOKE', 'ENABLE SERVER', 'SET', 'SHOW', 'SKIP', 'TERMINATE', 'UNWIND', 'USE' or 'WITH' (line 2, column 1 (offset: 7))\n\"s\"\n ^}",
      "\nDuring handling of the above exception, another exception occurred:\n",
      "\u001b[1;31mValueError\u001b[0m                                Traceback (most recent call last)",
      "Cell \u001b[1;32mIn[11], line 9\u001b[0m\n\u001b[0;32m      7\u001b[0m \u001b[38;5;28;01melse\u001b[39;00m:\n\u001b[0;32m      8\u001b[0m     \u001b[38;5;28mprint\u001b[39m(\u001b[38;5;124m\"\u001b[39m\u001b[38;5;130;01m\\n\u001b[39;00m\u001b[38;5;124m\"\u001b[39m \u001b[38;5;241m+\u001b[39m question)\n\u001b[1;32m----> 9\u001b[0m     \u001b[38;5;28mprint\u001b[39m(\u001b[43mchain\u001b[49m\u001b[38;5;241;43m.\u001b[39;49m\u001b[43minvoke\u001b[49m\u001b[43m(\u001b[49m\u001b[43mquestion\u001b[49m\u001b[43m)\u001b[49m[\u001b[38;5;124m\"\u001b[39m\u001b[38;5;124mresult\u001b[39m\u001b[38;5;124m\"\u001b[39m])\n",
      "File \u001b[1;32mc:\\Users\\abhis\\AppData\\Local\\Programs\\Python\\Python312\\Lib\\site-packages\\langchain\\chains\\base.py:162\u001b[0m, in \u001b[0;36mChain.invoke\u001b[1;34m(self, input, config, **kwargs)\u001b[0m\n\u001b[0;32m    160\u001b[0m \u001b[38;5;28;01mexcept\u001b[39;00m \u001b[38;5;167;01mBaseException\u001b[39;00m \u001b[38;5;28;01mas\u001b[39;00m e:\n\u001b[0;32m    161\u001b[0m     run_manager\u001b[38;5;241m.\u001b[39mon_chain_error(e)\n\u001b[1;32m--> 162\u001b[0m     \u001b[38;5;28;01mraise\u001b[39;00m e\n\u001b[0;32m    163\u001b[0m run_manager\u001b[38;5;241m.\u001b[39mon_chain_end(outputs)\n\u001b[0;32m    164\u001b[0m final_outputs: Dict[\u001b[38;5;28mstr\u001b[39m, Any] \u001b[38;5;241m=\u001b[39m \u001b[38;5;28mself\u001b[39m\u001b[38;5;241m.\u001b[39mprep_outputs(\n\u001b[0;32m    165\u001b[0m     inputs, outputs, return_only_outputs\n\u001b[0;32m    166\u001b[0m )\n",
      "File \u001b[1;32mc:\\Users\\abhis\\AppData\\Local\\Programs\\Python\\Python312\\Lib\\site-packages\\langchain\\chains\\base.py:156\u001b[0m, in \u001b[0;36mChain.invoke\u001b[1;34m(self, input, config, **kwargs)\u001b[0m\n\u001b[0;32m    149\u001b[0m run_manager \u001b[38;5;241m=\u001b[39m callback_manager\u001b[38;5;241m.\u001b[39mon_chain_start(\n\u001b[0;32m    150\u001b[0m     dumpd(\u001b[38;5;28mself\u001b[39m),\n\u001b[0;32m    151\u001b[0m     inputs,\n\u001b[0;32m    152\u001b[0m     name\u001b[38;5;241m=\u001b[39mrun_name,\n\u001b[0;32m    153\u001b[0m )\n\u001b[0;32m    154\u001b[0m \u001b[38;5;28;01mtry\u001b[39;00m:\n\u001b[0;32m    155\u001b[0m     outputs \u001b[38;5;241m=\u001b[39m (\n\u001b[1;32m--> 156\u001b[0m         \u001b[38;5;28;43mself\u001b[39;49m\u001b[38;5;241;43m.\u001b[39;49m\u001b[43m_call\u001b[49m\u001b[43m(\u001b[49m\u001b[43minputs\u001b[49m\u001b[43m,\u001b[49m\u001b[43m \u001b[49m\u001b[43mrun_manager\u001b[49m\u001b[38;5;241;43m=\u001b[39;49m\u001b[43mrun_manager\u001b[49m\u001b[43m)\u001b[49m\n\u001b[0;32m    157\u001b[0m         \u001b[38;5;28;01mif\u001b[39;00m new_arg_supported\n\u001b[0;32m    158\u001b[0m         \u001b[38;5;28;01melse\u001b[39;00m \u001b[38;5;28mself\u001b[39m\u001b[38;5;241m.\u001b[39m_call(inputs)\n\u001b[0;32m    159\u001b[0m     )\n\u001b[0;32m    160\u001b[0m \u001b[38;5;28;01mexcept\u001b[39;00m \u001b[38;5;167;01mBaseException\u001b[39;00m \u001b[38;5;28;01mas\u001b[39;00m e:\n\u001b[0;32m    161\u001b[0m     run_manager\u001b[38;5;241m.\u001b[39mon_chain_error(e)\n",
      "File \u001b[1;32mc:\\Users\\abhis\\AppData\\Local\\Programs\\Python\\Python312\\Lib\\site-packages\\langchain\\chains\\graph_qa\\cypher.py:267\u001b[0m, in \u001b[0;36mGraphCypherQAChain._call\u001b[1;34m(self, inputs, run_manager)\u001b[0m\n\u001b[0;32m    264\u001b[0m \u001b[38;5;66;03m# Retrieve and limit the number of results\u001b[39;00m\n\u001b[0;32m    265\u001b[0m \u001b[38;5;66;03m# Generated Cypher be null if query corrector identifies invalid schema\u001b[39;00m\n\u001b[0;32m    266\u001b[0m \u001b[38;5;28;01mif\u001b[39;00m generated_cypher:\n\u001b[1;32m--> 267\u001b[0m     context \u001b[38;5;241m=\u001b[39m \u001b[38;5;28;43mself\u001b[39;49m\u001b[38;5;241;43m.\u001b[39;49m\u001b[43mgraph\u001b[49m\u001b[38;5;241;43m.\u001b[39;49m\u001b[43mquery\u001b[49m\u001b[43m(\u001b[49m\u001b[43mgenerated_cypher\u001b[49m\u001b[43m)\u001b[49m[: \u001b[38;5;28mself\u001b[39m\u001b[38;5;241m.\u001b[39mtop_k]\n\u001b[0;32m    268\u001b[0m \u001b[38;5;28;01melse\u001b[39;00m:\n\u001b[0;32m    269\u001b[0m     context \u001b[38;5;241m=\u001b[39m []\n",
      "File \u001b[1;32mc:\\Users\\abhis\\AppData\\Local\\Programs\\Python\\Python312\\Lib\\site-packages\\langchain_community\\graphs\\neo4j_graph.py:170\u001b[0m, in \u001b[0;36mNeo4jGraph.query\u001b[1;34m(self, query, params)\u001b[0m\n\u001b[0;32m    168\u001b[0m     \u001b[38;5;28;01mreturn\u001b[39;00m json_data\n\u001b[0;32m    169\u001b[0m \u001b[38;5;28;01mexcept\u001b[39;00m CypherSyntaxError \u001b[38;5;28;01mas\u001b[39;00m e:\n\u001b[1;32m--> 170\u001b[0m     \u001b[38;5;28;01mraise\u001b[39;00m \u001b[38;5;167;01mValueError\u001b[39;00m(\u001b[38;5;124mf\u001b[39m\u001b[38;5;124m\"\u001b[39m\u001b[38;5;124mGenerated Cypher Statement is not valid\u001b[39m\u001b[38;5;130;01m\\n\u001b[39;00m\u001b[38;5;132;01m{\u001b[39;00me\u001b[38;5;132;01m}\u001b[39;00m\u001b[38;5;124m\"\u001b[39m)\n",
      "\u001b[1;31mValueError\u001b[0m: Generated Cypher Statement is not valid\n{code: Neo.ClientError.Statement.SyntaxError} {message: Invalid input 's': expected 'FOREACH', 'ALTER', 'ORDER BY', 'CALL', 'USING PERIODIC COMMIT', 'CREATE', 'LOAD CSV', 'START DATABASE', 'STOP DATABASE', 'DEALLOCATE', 'DELETE', 'DENY', 'DETACH', 'DROP', 'DRYRUN', 'FINISH', 'GRANT', 'INSERT', 'LIMIT', 'MATCH', 'MERGE', 'NODETACH', 'OFFSET', 'OPTIONAL', 'REALLOCATE', 'REMOVE', 'RENAME', 'RETURN', 'REVOKE', 'ENABLE SERVER', 'SET', 'SHOW', 'SKIP', 'TERMINATE', 'UNWIND', 'USE' or 'WITH' (line 2, column 1 (offset: 7))\n\"s\"\n ^}"
     ]
    }
   ],
   "source": [
    "while True:\n",
    "    question = input(\"\\n\\nEnter your question (Type 'EXIT' to exit) : \")\n",
    "    \n",
    "    if question == \"EXIT\":\n",
    "        print(\"Exiting\")\n",
    "        break\n",
    "    else:\n",
    "        print(\"\\n\" + question)\n",
    "        print(chain.invoke(question)[\"result\"])"
   ]
  }
 ],
 "metadata": {
  "kernelspec": {
   "display_name": "Python 3",
   "language": "python",
   "name": "python3"
  },
  "language_info": {
   "codemirror_mode": {
    "name": "ipython",
    "version": 3
   },
   "file_extension": ".py",
   "mimetype": "text/x-python",
   "name": "python",
   "nbconvert_exporter": "python",
   "pygments_lexer": "ipython3",
   "version": "3.12.6"
  }
 },
 "nbformat": 4,
 "nbformat_minor": 5
}
