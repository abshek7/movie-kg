{
 "cells": [
  {
   "cell_type": "code",
   "execution_count": 1,
   "id": "c71b93a0-b7f3-4a90-b17d-ce28c44fcfaa",
   "metadata": {},
   "outputs": [],
   "source": [
    "from os import getenv\n",
    "import polars as pl\n",
    "from dotenv import load_dotenv\n",
    "from neo4j import GraphDatabase"
   ]
  },
  {
   "cell_type": "code",
   "execution_count": 2,
   "id": "3cfc812a-25ef-4201-b821-28954c49f251",
   "metadata": {},
   "outputs": [
    {
     "data": {
      "text/plain": [
       "True"
      ]
     },
     "execution_count": 2,
     "metadata": {},
     "output_type": "execute_result"
    }
   ],
   "source": [
    "load_dotenv()"
   ]
  },
  {
   "cell_type": "markdown",
   "id": "9c73fb06-c05f-4ee1-8ab1-80ea36c9bb44",
   "metadata": {},
   "source": [
    "#### Credit to Chidambara Raju G for data\n",
    "[Link](https://www.kaggle.com/datasets/rajugc/imdb-top-250-movies-dataset)"
   ]
  },
  {
   "cell_type": "code",
   "execution_count": 3,
   "id": "b3ce449e-b68f-46c0-a6d0-460de996ca60",
   "metadata": {},
   "outputs": [],
   "source": [
    "df = pl.read_csv(\"../data/data.csv\")"
   ]
  },
  {
   "cell_type": "markdown",
   "id": "980b6b97-4e33-4817-98c7-f376569dbc0f",
   "metadata": {},
   "source": [
    "#### Removing and renaming columns"
   ]
  },
  {
   "cell_type": "code",
   "execution_count": 4,
   "id": "306ca673-d21e-42e1-9c6e-9ea3e8a539d8",
   "metadata": {
    "scrolled": true
   },
   "outputs": [
    {
     "data": {
      "text/plain": [
       "['rank',\n",
       " 'name',\n",
       " 'year',\n",
       " 'rating',\n",
       " 'genre',\n",
       " 'certificate',\n",
       " 'run_time',\n",
       " 'tagline',\n",
       " 'budget',\n",
       " 'box_office',\n",
       " 'casts',\n",
       " 'directors',\n",
       " 'writers']"
      ]
     },
     "execution_count": 4,
     "metadata": {},
     "output_type": "execute_result"
    }
   ],
   "source": [
    "df.columns"
   ]
  },
  {
   "cell_type": "code",
   "execution_count": 5,
   "id": "adafa183-f913-4b17-a205-9e64c85c573a",
   "metadata": {},
   "outputs": [
    {
     "data": {
      "text/plain": [
       "['title',\n",
       " 'year',\n",
       " 'rating',\n",
       " 'genre',\n",
       " 'certificate',\n",
       " 'run_time',\n",
       " 'tagline',\n",
       " 'casts',\n",
       " 'directors',\n",
       " 'writers']"
      ]
     },
     "execution_count": 5,
     "metadata": {},
     "output_type": "execute_result"
    }
   ],
   "source": [
    "drop_cols = [ \"rank\", \"whereToRent\",\"availableStreamingPlatforms\", \"budget\", \"box_office\"]\n",
    "df = df.drop(drop_cols).rename({\"name\": \"title\"})\n",
    "df.columns"
   ]
  },
  {
   "cell_type": "code",
   "execution_count": 6,
   "id": "738d4c9f-3952-4cd7-ba18-5499b6217d97",
   "metadata": {},
   "outputs": [
    {
     "data": {
      "text/html": [
       "<div><style>\n",
       ".dataframe > thead > tr,\n",
       ".dataframe > tbody > tr {\n",
       "  text-align: right;\n",
       "  white-space: pre-wrap;\n",
       "}\n",
       "</style>\n",
       "<small>shape: (9, 11)</small><table border=\"1\" class=\"dataframe\"><thead><tr><th>statistic</th><th>title</th><th>year</th><th>rating</th><th>genre</th><th>certificate</th><th>run_time</th><th>tagline</th><th>casts</th><th>directors</th><th>writers</th></tr><tr><td>str</td><td>str</td><td>f64</td><td>f64</td><td>str</td><td>str</td><td>str</td><td>str</td><td>str</td><td>str</td><td>str</td></tr></thead><tbody><tr><td>&quot;count&quot;</td><td>&quot;250&quot;</td><td>250.0</td><td>250.0</td><td>&quot;250&quot;</td><td>&quot;250&quot;</td><td>&quot;250&quot;</td><td>&quot;250&quot;</td><td>&quot;250&quot;</td><td>&quot;250&quot;</td><td>&quot;250&quot;</td></tr><tr><td>&quot;null_count&quot;</td><td>&quot;0&quot;</td><td>0.0</td><td>0.0</td><td>&quot;0&quot;</td><td>&quot;0&quot;</td><td>&quot;0&quot;</td><td>&quot;0&quot;</td><td>&quot;0&quot;</td><td>&quot;0&quot;</td><td>&quot;0&quot;</td></tr><tr><td>&quot;mean&quot;</td><td>null</td><td>1986.36</td><td>8.3072</td><td>null</td><td>null</td><td>null</td><td>null</td><td>null</td><td>null</td><td>null</td></tr><tr><td>&quot;std&quot;</td><td>null</td><td>25.125356</td><td>0.229081</td><td>null</td><td>null</td><td>null</td><td>null</td><td>null</td><td>null</td><td>null</td></tr><tr><td>&quot;min&quot;</td><td>&quot;12 Angry Men&quot;</td><td>1921.0</td><td>8.0</td><td>&quot;Action,Adventure&quot;</td><td>&quot;13+&quot;</td><td>&quot;1h 20m&quot;</td><td>&quot;&quot;As far back as I can remember…</td><td>&quot;Aamir Khan,Madhavan,Mona Singh…</td><td>&quot;Aamir Khan,Amole Gupte(uncredi…</td><td>&quot;Aaron Guzikowski&quot;</td></tr><tr><td>&quot;25%&quot;</td><td>null</td><td>1966.0</td><td>8.1</td><td>null</td><td>null</td><td>null</td><td>null</td><td>null</td><td>null</td><td>null</td></tr><tr><td>&quot;50%&quot;</td><td>null</td><td>1994.0</td><td>8.2</td><td>null</td><td>null</td><td>null</td><td>null</td><td>null</td><td>null</td><td>null</td></tr><tr><td>&quot;75%&quot;</td><td>null</td><td>2006.0</td><td>8.4</td><td>null</td><td>null</td><td>null</td><td>null</td><td>null</td><td>null</td><td>null</td></tr><tr><td>&quot;max&quot;</td><td>&quot;Your Name.&quot;</td><td>2022.0</td><td>9.3</td><td>&quot;Western&quot;</td><td>&quot;X&quot;</td><td>&quot;Not Available&quot;</td><td>&quot;ventureComedyCrime&quot;</td><td>&quot;Çetin Tekindor,Fikret Kuskan,H…</td><td>&quot;Çagan Irmak&quot;</td><td>&quot;Çagan Irmak&quot;</td></tr></tbody></table></div>"
      ],
      "text/plain": [
       "shape: (9, 11)\n",
       "┌───────────┬───────────┬───────────┬──────────┬───┬───────────┬───────────┬───────────┬───────────┐\n",
       "│ statistic ┆ title     ┆ year      ┆ rating   ┆ … ┆ tagline   ┆ casts     ┆ directors ┆ writers   │\n",
       "│ ---       ┆ ---       ┆ ---       ┆ ---      ┆   ┆ ---       ┆ ---       ┆ ---       ┆ ---       │\n",
       "│ str       ┆ str       ┆ f64       ┆ f64      ┆   ┆ str       ┆ str       ┆ str       ┆ str       │\n",
       "╞═══════════╪═══════════╪═══════════╪══════════╪═══╪═══════════╪═══════════╪═══════════╪═══════════╡\n",
       "│ count     ┆ 250       ┆ 250.0     ┆ 250.0    ┆ … ┆ 250       ┆ 250       ┆ 250       ┆ 250       │\n",
       "│ null_coun ┆ 0         ┆ 0.0       ┆ 0.0      ┆ … ┆ 0         ┆ 0         ┆ 0         ┆ 0         │\n",
       "│ t         ┆           ┆           ┆          ┆   ┆           ┆           ┆           ┆           │\n",
       "│ mean      ┆ null      ┆ 1986.36   ┆ 8.3072   ┆ … ┆ null      ┆ null      ┆ null      ┆ null      │\n",
       "│ std       ┆ null      ┆ 25.125356 ┆ 0.229081 ┆ … ┆ null      ┆ null      ┆ null      ┆ null      │\n",
       "│ min       ┆ 12 Angry  ┆ 1921.0    ┆ 8.0      ┆ … ┆ \"As far   ┆ Aamir Kha ┆ Aamir Kha ┆ Aaron Guz │\n",
       "│           ┆ Men       ┆           ┆          ┆   ┆ back as I ┆ n,Madhava ┆ n,Amole   ┆ ikowski   │\n",
       "│           ┆           ┆           ┆          ┆   ┆ can       ┆ n,Mona    ┆ Gupte(unc ┆           │\n",
       "│           ┆           ┆           ┆          ┆   ┆ remember… ┆ Singh…    ┆ redi…     ┆           │\n",
       "│ 25%       ┆ null      ┆ 1966.0    ┆ 8.1      ┆ … ┆ null      ┆ null      ┆ null      ┆ null      │\n",
       "│ 50%       ┆ null      ┆ 1994.0    ┆ 8.2      ┆ … ┆ null      ┆ null      ┆ null      ┆ null      │\n",
       "│ 75%       ┆ null      ┆ 2006.0    ┆ 8.4      ┆ … ┆ null      ┆ null      ┆ null      ┆ null      │\n",
       "│ max       ┆ Your      ┆ 2022.0    ┆ 9.3      ┆ … ┆ ventureCo ┆ Çetin Tek ┆ Çagan     ┆ Çagan     │\n",
       "│           ┆ Name.     ┆           ┆          ┆   ┆ medyCrime ┆ indor,Fik ┆ Irmak     ┆ Irmak     │\n",
       "│           ┆           ┆           ┆          ┆   ┆           ┆ ret       ┆           ┆           │\n",
       "│           ┆           ┆           ┆          ┆   ┆           ┆ Kuskan,H… ┆           ┆           │\n",
       "└───────────┴───────────┴───────────┴──────────┴───┴───────────┴───────────┴───────────┴───────────┘"
      ]
     },
     "execution_count": 6,
     "metadata": {},
     "output_type": "execute_result"
    }
   ],
   "source": [
    "df.describe()"
   ]
  },
  {
   "cell_type": "code",
   "execution_count": 7,
   "id": "daa46756-81ff-47af-8816-e094e64eea52",
   "metadata": {},
   "outputs": [
    {
     "data": {
      "text/html": [
       "<div><style>\n",
       ".dataframe > thead > tr,\n",
       ".dataframe > tbody > tr {\n",
       "  text-align: right;\n",
       "  white-space: pre-wrap;\n",
       "}\n",
       "</style>\n",
       "<small>shape: (5, 10)</small><table border=\"1\" class=\"dataframe\"><thead><tr><th>title</th><th>year</th><th>rating</th><th>genre</th><th>certificate</th><th>run_time</th><th>tagline</th><th>casts</th><th>directors</th><th>writers</th></tr><tr><td>str</td><td>i64</td><td>f64</td><td>str</td><td>str</td><td>str</td><td>str</td><td>str</td><td>str</td><td>str</td></tr></thead><tbody><tr><td>&quot;The Shawshank Redemption&quot;</td><td>1994</td><td>9.3</td><td>&quot;Drama&quot;</td><td>&quot;R&quot;</td><td>&quot;2h 22m&quot;</td><td>&quot;Fear can hold you prisoner. Ho…</td><td>&quot;Tim Robbins,Morgan Freeman,Bob…</td><td>&quot;Frank Darabont&quot;</td><td>&quot;Stephen King,Frank Darabont&quot;</td></tr><tr><td>&quot;The Godfather&quot;</td><td>1972</td><td>9.2</td><td>&quot;Crime,Drama&quot;</td><td>&quot;R&quot;</td><td>&quot;2h 55m&quot;</td><td>&quot;An offer you can&#x27;t refuse.&quot;</td><td>&quot;Marlon Brando,Al Pacino,James …</td><td>&quot;Francis Ford Coppola&quot;</td><td>&quot;Mario Puzo,Francis Ford Coppol…</td></tr><tr><td>&quot;The Dark Knight&quot;</td><td>2008</td><td>9.0</td><td>&quot;Action,Crime,Drama&quot;</td><td>&quot;PG-13&quot;</td><td>&quot;2h 32m&quot;</td><td>&quot;Why So Serious?&quot;</td><td>&quot;Christian Bale,Heath Ledger,Aa…</td><td>&quot;Christopher Nolan&quot;</td><td>&quot;Jonathan Nolan,Christopher Nol…</td></tr><tr><td>&quot;The Godfather Part II&quot;</td><td>1974</td><td>9.0</td><td>&quot;Crime,Drama&quot;</td><td>&quot;R&quot;</td><td>&quot;3h 22m&quot;</td><td>&quot;All the power on earth can&#x27;t c…</td><td>&quot;Al Pacino,Robert De Niro,Rober…</td><td>&quot;Francis Ford Coppola&quot;</td><td>&quot;Francis Ford Coppola,Mario Puz…</td></tr><tr><td>&quot;12 Angry Men&quot;</td><td>1957</td><td>9.0</td><td>&quot;Crime,Drama&quot;</td><td>&quot;Approved&quot;</td><td>&quot;1h 36m&quot;</td><td>&quot;Life Is In Their Hands -- Deat…</td><td>&quot;Henry Fonda,Lee J. Cobb,Martin…</td><td>&quot;Sidney Lumet&quot;</td><td>&quot;Reginald Rose&quot;</td></tr></tbody></table></div>"
      ],
      "text/plain": [
       "shape: (5, 10)\n",
       "┌─────────────┬──────┬────────┬────────────┬───┬────────────┬────────────┬────────────┬────────────┐\n",
       "│ title       ┆ year ┆ rating ┆ genre      ┆ … ┆ tagline    ┆ casts      ┆ directors  ┆ writers    │\n",
       "│ ---         ┆ ---  ┆ ---    ┆ ---        ┆   ┆ ---        ┆ ---        ┆ ---        ┆ ---        │\n",
       "│ str         ┆ i64  ┆ f64    ┆ str        ┆   ┆ str        ┆ str        ┆ str        ┆ str        │\n",
       "╞═════════════╪══════╪════════╪════════════╪═══╪════════════╪════════════╪════════════╪════════════╡\n",
       "│ The         ┆ 1994 ┆ 9.3    ┆ Drama      ┆ … ┆ Fear can   ┆ Tim Robbin ┆ Frank      ┆ Stephen    │\n",
       "│ Shawshank   ┆      ┆        ┆            ┆   ┆ hold you   ┆ s,Morgan   ┆ Darabont   ┆ King,Frank │\n",
       "│ Redemption  ┆      ┆        ┆            ┆   ┆ prisoner.  ┆ Freeman,Bo ┆            ┆ Darabont   │\n",
       "│             ┆      ┆        ┆            ┆   ┆ Ho…        ┆ b…         ┆            ┆            │\n",
       "│ The         ┆ 1972 ┆ 9.2    ┆ Crime,Dram ┆ … ┆ An offer   ┆ Marlon     ┆ Francis    ┆ Mario Puzo │\n",
       "│ Godfather   ┆      ┆        ┆ a          ┆   ┆ you can't  ┆ Brando,Al  ┆ Ford       ┆ ,Francis   │\n",
       "│             ┆      ┆        ┆            ┆   ┆ refuse.    ┆ Pacino,Jam ┆ Coppola    ┆ Ford       │\n",
       "│             ┆      ┆        ┆            ┆   ┆            ┆ es …       ┆            ┆ Coppol…    │\n",
       "│ The Dark    ┆ 2008 ┆ 9.0    ┆ Action,Cri ┆ … ┆ Why So     ┆ Christian  ┆ Christophe ┆ Jonathan   │\n",
       "│ Knight      ┆      ┆        ┆ me,Drama   ┆   ┆ Serious?   ┆ Bale,Heath ┆ r Nolan    ┆ Nolan,Chri │\n",
       "│             ┆      ┆        ┆            ┆   ┆            ┆ Ledger,Aa… ┆            ┆ stopher    │\n",
       "│             ┆      ┆        ┆            ┆   ┆            ┆            ┆            ┆ Nol…       │\n",
       "│ The         ┆ 1974 ┆ 9.0    ┆ Crime,Dram ┆ … ┆ All the    ┆ Al Pacino, ┆ Francis    ┆ Francis    │\n",
       "│ Godfather   ┆      ┆        ┆ a          ┆   ┆ power on   ┆ Robert De  ┆ Ford       ┆ Ford Coppo │\n",
       "│ Part II     ┆      ┆        ┆            ┆   ┆ earth      ┆ Niro,Rober ┆ Coppola    ┆ la,Mario   │\n",
       "│             ┆      ┆        ┆            ┆   ┆ can't c…   ┆ …          ┆            ┆ Puz…       │\n",
       "│ 12 Angry    ┆ 1957 ┆ 9.0    ┆ Crime,Dram ┆ … ┆ Life Is In ┆ Henry      ┆ Sidney     ┆ Reginald   │\n",
       "│ Men         ┆      ┆        ┆ a          ┆   ┆ Their      ┆ Fonda,Lee  ┆ Lumet      ┆ Rose       │\n",
       "│             ┆      ┆        ┆            ┆   ┆ Hands --   ┆ J. Cobb,Ma ┆            ┆            │\n",
       "│             ┆      ┆        ┆            ┆   ┆ Deat…      ┆ rtin…      ┆            ┆            │\n",
       "└─────────────┴──────┴────────┴────────────┴───┴────────────┴────────────┴────────────┴────────────┘"
      ]
     },
     "execution_count": 7,
     "metadata": {},
     "output_type": "execute_result"
    }
   ],
   "source": [
    "df.head()"
   ]
  },
  {
   "cell_type": "markdown",
   "id": "9684fe74-f8ac-44e5-bd7f-5e2ac8a0724b",
   "metadata": {},
   "source": [
    "#### Converting runtime to minutes"
   ]
  },
  {
   "cell_type": "code",
   "execution_count": 8,
   "id": "6946fdb1-7bf9-4ac7-954a-ece83e7347c1",
   "metadata": {},
   "outputs": [],
   "source": [
    "def to_minutes(time_str):\n",
    "    mins = 0\n",
    "    parts = time_str.split()\n",
    "    \n",
    "    for part in parts:\n",
    "        if part[-1] == 'h':\n",
    "            mins += int(part[:-1]) * 60\n",
    "        elif part[-1] == 'm':\n",
    "            mins += int(part[:-1])\n",
    "    \n",
    "    return mins"
   ]
  },
  {
   "cell_type": "code",
   "execution_count": 9,
   "id": "41508337-24ea-46a8-a0ee-f22f3924f0d5",
   "metadata": {},
   "outputs": [
    {
     "data": {
      "text/html": [
       "<div><style>\n",
       ".dataframe > thead > tr,\n",
       ".dataframe > tbody > tr {\n",
       "  text-align: right;\n",
       "  white-space: pre-wrap;\n",
       "}\n",
       "</style>\n",
       "<small>shape: (5, 10)</small><table border=\"1\" class=\"dataframe\"><thead><tr><th>title</th><th>year</th><th>rating</th><th>genre</th><th>certificate</th><th>run_time</th><th>tagline</th><th>casts</th><th>directors</th><th>writers</th></tr><tr><td>str</td><td>i64</td><td>f64</td><td>str</td><td>str</td><td>i64</td><td>str</td><td>str</td><td>str</td><td>str</td></tr></thead><tbody><tr><td>&quot;The Shawshank Redemption&quot;</td><td>1994</td><td>9.3</td><td>&quot;Drama&quot;</td><td>&quot;R&quot;</td><td>142</td><td>&quot;Fear can hold you prisoner. Ho…</td><td>&quot;Tim Robbins,Morgan Freeman,Bob…</td><td>&quot;Frank Darabont&quot;</td><td>&quot;Stephen King,Frank Darabont&quot;</td></tr><tr><td>&quot;The Godfather&quot;</td><td>1972</td><td>9.2</td><td>&quot;Crime,Drama&quot;</td><td>&quot;R&quot;</td><td>175</td><td>&quot;An offer you can&#x27;t refuse.&quot;</td><td>&quot;Marlon Brando,Al Pacino,James …</td><td>&quot;Francis Ford Coppola&quot;</td><td>&quot;Mario Puzo,Francis Ford Coppol…</td></tr><tr><td>&quot;The Dark Knight&quot;</td><td>2008</td><td>9.0</td><td>&quot;Action,Crime,Drama&quot;</td><td>&quot;PG-13&quot;</td><td>152</td><td>&quot;Why So Serious?&quot;</td><td>&quot;Christian Bale,Heath Ledger,Aa…</td><td>&quot;Christopher Nolan&quot;</td><td>&quot;Jonathan Nolan,Christopher Nol…</td></tr><tr><td>&quot;The Godfather Part II&quot;</td><td>1974</td><td>9.0</td><td>&quot;Crime,Drama&quot;</td><td>&quot;R&quot;</td><td>202</td><td>&quot;All the power on earth can&#x27;t c…</td><td>&quot;Al Pacino,Robert De Niro,Rober…</td><td>&quot;Francis Ford Coppola&quot;</td><td>&quot;Francis Ford Coppola,Mario Puz…</td></tr><tr><td>&quot;12 Angry Men&quot;</td><td>1957</td><td>9.0</td><td>&quot;Crime,Drama&quot;</td><td>&quot;Approved&quot;</td><td>96</td><td>&quot;Life Is In Their Hands -- Deat…</td><td>&quot;Henry Fonda,Lee J. Cobb,Martin…</td><td>&quot;Sidney Lumet&quot;</td><td>&quot;Reginald Rose&quot;</td></tr></tbody></table></div>"
      ],
      "text/plain": [
       "shape: (5, 10)\n",
       "┌─────────────┬──────┬────────┬────────────┬───┬────────────┬────────────┬────────────┬────────────┐\n",
       "│ title       ┆ year ┆ rating ┆ genre      ┆ … ┆ tagline    ┆ casts      ┆ directors  ┆ writers    │\n",
       "│ ---         ┆ ---  ┆ ---    ┆ ---        ┆   ┆ ---        ┆ ---        ┆ ---        ┆ ---        │\n",
       "│ str         ┆ i64  ┆ f64    ┆ str        ┆   ┆ str        ┆ str        ┆ str        ┆ str        │\n",
       "╞═════════════╪══════╪════════╪════════════╪═══╪════════════╪════════════╪════════════╪════════════╡\n",
       "│ The         ┆ 1994 ┆ 9.3    ┆ Drama      ┆ … ┆ Fear can   ┆ Tim Robbin ┆ Frank      ┆ Stephen    │\n",
       "│ Shawshank   ┆      ┆        ┆            ┆   ┆ hold you   ┆ s,Morgan   ┆ Darabont   ┆ King,Frank │\n",
       "│ Redemption  ┆      ┆        ┆            ┆   ┆ prisoner.  ┆ Freeman,Bo ┆            ┆ Darabont   │\n",
       "│             ┆      ┆        ┆            ┆   ┆ Ho…        ┆ b…         ┆            ┆            │\n",
       "│ The         ┆ 1972 ┆ 9.2    ┆ Crime,Dram ┆ … ┆ An offer   ┆ Marlon     ┆ Francis    ┆ Mario Puzo │\n",
       "│ Godfather   ┆      ┆        ┆ a          ┆   ┆ you can't  ┆ Brando,Al  ┆ Ford       ┆ ,Francis   │\n",
       "│             ┆      ┆        ┆            ┆   ┆ refuse.    ┆ Pacino,Jam ┆ Coppola    ┆ Ford       │\n",
       "│             ┆      ┆        ┆            ┆   ┆            ┆ es …       ┆            ┆ Coppol…    │\n",
       "│ The Dark    ┆ 2008 ┆ 9.0    ┆ Action,Cri ┆ … ┆ Why So     ┆ Christian  ┆ Christophe ┆ Jonathan   │\n",
       "│ Knight      ┆      ┆        ┆ me,Drama   ┆   ┆ Serious?   ┆ Bale,Heath ┆ r Nolan    ┆ Nolan,Chri │\n",
       "│             ┆      ┆        ┆            ┆   ┆            ┆ Ledger,Aa… ┆            ┆ stopher    │\n",
       "│             ┆      ┆        ┆            ┆   ┆            ┆            ┆            ┆ Nol…       │\n",
       "│ The         ┆ 1974 ┆ 9.0    ┆ Crime,Dram ┆ … ┆ All the    ┆ Al Pacino, ┆ Francis    ┆ Francis    │\n",
       "│ Godfather   ┆      ┆        ┆ a          ┆   ┆ power on   ┆ Robert De  ┆ Ford       ┆ Ford Coppo │\n",
       "│ Part II     ┆      ┆        ┆            ┆   ┆ earth      ┆ Niro,Rober ┆ Coppola    ┆ la,Mario   │\n",
       "│             ┆      ┆        ┆            ┆   ┆ can't c…   ┆ …          ┆            ┆ Puz…       │\n",
       "│ 12 Angry    ┆ 1957 ┆ 9.0    ┆ Crime,Dram ┆ … ┆ Life Is In ┆ Henry      ┆ Sidney     ┆ Reginald   │\n",
       "│ Men         ┆      ┆        ┆ a          ┆   ┆ Their      ┆ Fonda,Lee  ┆ Lumet      ┆ Rose       │\n",
       "│             ┆      ┆        ┆            ┆   ┆ Hands --   ┆ J. Cobb,Ma ┆            ┆            │\n",
       "│             ┆      ┆        ┆            ┆   ┆ Deat…      ┆ rtin…      ┆            ┆            │\n",
       "└─────────────┴──────┴────────┴────────────┴───┴────────────┴────────────┴────────────┴────────────┘"
      ]
     },
     "execution_count": 9,
     "metadata": {},
     "output_type": "execute_result"
    }
   ],
   "source": [
    "mins = df[\"run_time\"].map_elements(to_minutes, return_dtype=pl.Int64)\n",
    "df = df.with_columns(mins)\n",
    "\n",
    "df.head()"
   ]
  },
  {
   "cell_type": "markdown",
   "id": "83f6313d-6a5a-4f44-969b-1a144840b018",
   "metadata": {},
   "source": [
    "#### Importing environment variables"
   ]
  },
  {
   "cell_type": "code",
   "execution_count": 10,
   "id": "5ac4b943-6be4-4987-8999-35fac86eaeda",
   "metadata": {},
   "outputs": [],
   "source": [
    "neo4j_url = getenv(\"NEO4J_URL\")\n",
    "neo4j_user = getenv(\"NEO4J_USER\")\n",
    "neo4j_password = getenv(\"NEO4J_PW\")\n",
    "neo4j_database = getenv(\"NEO4J_DB\")"
   ]
  },
  {
   "cell_type": "markdown",
   "id": "75c1d699-6c9f-4f20-91c3-1ad7439b30e8",
   "metadata": {},
   "source": [
    "#### Neo4J"
   ]
  },
  {
   "cell_type": "code",
   "execution_count": 11,
   "id": "56a57a0c-a7d8-450a-a64b-1e74b81e06eb",
   "metadata": {},
   "outputs": [
    {
     "name": "stdout",
     "output_type": "stream",
     "text": [
      "Authentication verified\n",
      "Connection verified\n"
     ]
    }
   ],
   "source": [
    "driver = GraphDatabase.driver(neo4j_url, auth=(neo4j_user, neo4j_password))\n",
    "\n",
    "if driver.verify_authentication():\n",
    "    print(\"Authentication verified\")\n",
    "\n",
    "driver.verify_connectivity()\n",
    "print(\"Connection verified\")"
   ]
  },
  {
   "cell_type": "markdown",
   "id": "4041c800-ac37-42b7-bd23-7d2eb022d312",
   "metadata": {},
   "source": [
    "#### 3 types of nodes - Movie, Genre, Person\n",
    "#### Person can be - Actor, Director, Writer or a combination of these\n",
    "#### Relationships are -\n",
    "- Person - [ WROTE / ACTED_IN / DIRECTED ] -> Movie\n",
    "- Movie - [ BELONGS_TO ] -> Genre"
   ]
  },
  {
   "cell_type": "code",
   "execution_count": 12,
   "id": "981db6c5-844e-4f13-b494-cd9a0a2563d8",
   "metadata": {},
   "outputs": [],
   "source": [
    "def create_graph(df, driver, db, limit):\n",
    "    with driver.session(database=db) as session:\n",
    "        for row in df.iter_rows(named=True):\n",
    "            session.run(\n",
    "                \"\"\"\n",
    "                MERGE (m:Movie {title: $title, year: $year, rating: $rating, certificate: $certificate, run_time: $run_time, tagline: $tagline})\n",
    "                \"\"\",\n",
    "                title=row['title'],\n",
    "                year=row['year'],\n",
    "                rating=row['rating'],\n",
    "                certificate=row['certificate'],\n",
    "                run_time=row['run_time'],\n",
    "                tagline=row['tagline']\n",
    "            )\n",
    "            \n",
    "            actors = row['casts'].split(',')[:limit]\n",
    "            for actor in actors:\n",
    "                session.run(\n",
    "                    \"\"\"\n",
    "                    MERGE (p:Person {name: $name})\n",
    "                    SET p:Actor\n",
    "                    WITH p\n",
    "                    MATCH (m:Movie {title: $title})\n",
    "                    MERGE (p)-[:ACTED_IN]->(m)\n",
    "                    \"\"\",\n",
    "                    name=actor.strip(),\n",
    "                    title=row['title']\n",
    "                )\n",
    "                \n",
    "            directors = row['directors'].split(',')[:limit]\n",
    "            for director in directors:\n",
    "                session.run(\n",
    "                    \"\"\"\n",
    "                    MERGE (p:Person {name: $name})\n",
    "                    SET p:Director\n",
    "                    WITH p\n",
    "                    MATCH (m:Movie {title: $title})\n",
    "                    MERGE (p)-[:DIRECTED]->(m)\n",
    "                    \"\"\",\n",
    "                    name=director.strip(),\n",
    "                    title=row['title']\n",
    "                )\n",
    "                \n",
    "            writers = row['writers'].split(',')[:limit]\n",
    "            for writer in writers:\n",
    "                session.run(\n",
    "                    \"\"\"\n",
    "                    MERGE (p:Person {name: $name})\n",
    "                    SET p:Writer\n",
    "                    WITH p\n",
    "                    MATCH (m:Movie {title: $title})\n",
    "                    MERGE (p)-[:WROTE]->(m)\n",
    "                    \"\"\",\n",
    "                    name=writer.strip(),\n",
    "                    title=row['title']\n",
    "                )\n",
    "\n",
    "            genres = row['genre'].split(',')[:limit]\n",
    "            for genre in genres:\n",
    "                session.run(\n",
    "                    \"\"\"\n",
    "                    MERGE (g:Genre {name: $name})\n",
    "                    WITH g\n",
    "                    MATCH (m:Movie {title: $title})\n",
    "                    MERGE (m)-[:BELONGS_TO]->(g)\n",
    "                    \"\"\",\n",
    "                    name=genre.strip(),\n",
    "                    title=row['title']\n",
    "                )\n"
   ]
  },
  {
   "cell_type": "markdown",
   "id": "d7d3fcc6-5089-4068-b78e-bb32a59d6f5d",
   "metadata": {},
   "source": [
    "Setting the limit parameter to 3, as default, ensures only first 3 actors, directors, writers and genres are considered for a movie.\n",
    "You can increase / decrease the limit."
   ]
  },
  {
   "cell_type": "code",
   "execution_count": 13,
   "id": "586a98e4-7e7a-47be-b253-d66dca765f22",
   "metadata": {},
   "outputs": [],
   "source": [
    "create_graph(df, driver, neo4j_database, 3)"
   ]
  },
  {
   "cell_type": "code",
   "execution_count": 14,
   "id": "06933056-b402-4b79-9d28-4e9dbbfa79c6",
   "metadata": {},
   "outputs": [],
   "source": [
    "driver.close()"
   ]
  },
  {
   "cell_type": "markdown",
   "id": "0fbaf3cd-74af-4831-91cd-6d0bbd290428",
   "metadata": {},
   "source": [
    "- To view the network graph, in the Neo4j browser, run\n",
    "``` cypher\n",
    "MATCH (n) RETURN n\n",
    "```\n",
    "\n",
    "- To delete the network graph, in the Neo4j browser, run\n",
    "``` cypher\n",
    "MATCH (n) DETACH DELETE n\n",
    "```"
   ]
  }
 ],
 "metadata": {
  "kernelspec": {
   "display_name": "Python [conda env:newenv] *",
   "language": "python",
   "name": "conda-env-newenv-py"
  },
  "language_info": {
   "codemirror_mode": {
    "name": "ipython",
    "version": 3
   },
   "file_extension": ".py",
   "mimetype": "text/x-python",
   "name": "python",
   "nbconvert_exporter": "python",
   "pygments_lexer": "ipython3",
   "version": "3.10.14"
  }
 },
 "nbformat": 4,
 "nbformat_minor": 5
}
